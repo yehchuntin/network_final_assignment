{
 "cells": [
  {
   "cell_type": "code",
   "execution_count": 6,
   "id": "0b1be2a6-03c2-4ab9-ae70-d9231b73fe8e",
   "metadata": {},
   "outputs": [
    {
     "name": "stdout",
     "output_type": "stream",
     "text": [
      "hello world\n"
     ]
    }
   ],
   "source": [
    "print('hello world')"
   ]
  },
  {
   "cell_type": "code",
   "execution_count": 9,
   "id": "f818b842",
   "metadata": {},
   "outputs": [
    {
     "name": "stdout",
     "output_type": "stream",
     "text": [
      "本頁的URL為https://www.ptt.cc/bbs/joke/index.html\n",
      "本頁的URL為https://www.ptt.cc/bbs/joke/index8657.html\n",
      "本頁的URL為https://www.ptt.cc/bbs/joke/index8656.html\n",
      "/bbs/joke/M.1744984695.A.F9B.html [猜謎] 哪個比較痛？\n",
      "/bbs/joke/M.1745030487.A.E3F.html [耍冷] 沒事多喝水\n",
      "/bbs/joke/M.1745034375.A.2F9.html [耍冷] 推特上在夯什麼 Part.1852\n",
      "/bbs/joke/M.1745035978.A.848.html [趣圖] 你爸真的是MVP\n",
      "/bbs/joke/M.1745037601.A.49E.html [ＸＤ] 奉勸各位要學好物理\n",
      "/bbs/joke/M.1745060690.A.AA7.html [耍冷] 這世界上\n",
      "/bbs/joke/M.1745065272.A.1A3.html [趣事] 眼鏡蛇攻擊直升機\n",
      "/bbs/joke/M.1745066426.A.601.html [ＸＤ] 台派\n",
      "/bbs/joke/M.1745119104.A.963.html [耍冷] where is Sue?\n",
      "/bbs/joke/M.1745124181.A.6A7.html [耍冷] 推特上在夯什麼 Part.1853\n",
      "/bbs/joke/M.1745130916.A.9AD.html [ＸＤ] 鬼壓床怎麼辦\n",
      "/bbs/joke/M.1745152175.A.276.html Re: [耍冷] 為什麼很多人覺得穿CK內衣很性感？\n",
      "/bbs/joke/M.1745158801.A.121.html [趣圖] 寵物進去出來會變兩隻\n",
      "/bbs/joke/M.1745159150.A.4F6.html [地獄] 蕭煌奇在瞎雞巴煮什麼料理\n",
      "/bbs/joke/M.1745159552.A.97D.html [地獄] 東方聖人與西方聖人，誰比較強？\n",
      "/bbs/joke/M.1745188485.A.CF8.html Re: [ＸＤ] 鬼壓床怎麼辦\n",
      "/bbs/joke/M.1745190057.A.580.html [地獄] 玻璃睪丸在古代的叫什麼？\n",
      "/bbs/joke/M.1745190636.A.38F.html [猜謎] 提摩去好市多\n",
      "/bbs/joke/M.1745199049.A.FDA.html [耍冷] 流龍馬去居酒屋打工\n"
     ]
    }
   ],
   "source": [
    "import requests\n",
    "from bs4 import BeautifulSoup\n",
    "url = \"https://www.ptt.cc/bbs/joke/index.html\"\n",
    "for i in range(3): #往上爬3頁\n",
    "    r = requests.get(url)\n",
    "    soup = BeautifulSoup(r.text,\"html.parser\")\n",
    "    sel = soup.select(\"div.title a\") #標題\n",
    "    u = soup.select(\"div.btn-group.btn-group-paging a\") #a標籤\n",
    "    print (\"本頁的URL為\"+url)\n",
    "    url = \"https://www.ptt.cc\"+ u[1][\"href\"] #上一頁的網址\n",
    "\n",
    "for s in sel: #印出網址跟標題\n",
    "    print(s[\"href\"],s.text)"
   ]
  }
 ],
 "metadata": {
  "kernelspec": {
   "display_name": "Python 3 (ipykernel)",
   "language": "python",
   "name": "python3"
  },
  "language_info": {
   "codemirror_mode": {
    "name": "ipython",
    "version": 3
   },
   "file_extension": ".py",
   "mimetype": "text/x-python",
   "name": "python",
   "nbconvert_exporter": "python",
   "pygments_lexer": "ipython3",
   "version": "3.10.9"
  }
 },
 "nbformat": 4,
 "nbformat_minor": 5
}
